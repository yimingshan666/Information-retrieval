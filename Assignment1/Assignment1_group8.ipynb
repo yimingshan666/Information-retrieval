{
 "cells": [
  {
   "cell_type": "markdown",
   "metadata": {},
   "source": [
    "### Group 08\n",
    "\n",
    "| Name  | Matriculation Number  | E-mail  |\n",
    "| :------- | :----------------------- | :--------- |\n",
    "| Jonas Maas | 03697372| [mail@jonasmaas.de](mailto:mail@jonasmaas.de) |\n",
    "| Jiangwei Hao  | 03738359 | [hjwzuibang@outlook.com](mailto:hjwzuibang@outlook.com) |\n",
    "| Kaicheng Ni   | 03749628 | [kc.ninini@gmail.com](mailto:kc.ninini@gmail.com) |\n",
    "| Yiming Shan   | 03749627 | [yiming.shan@tum.de](mailto:yiming.shan@tum.de) |\n",
    "| Zongyue Li    | 03713135 | [zongyue.li@outlook.com](mailto:zongyue.li@outlook.com) |\n",
    "| Thorben Wigger| 03696666 | [thorben-wigger@web.de](mailto:thorben-wigger@web.de) |\n",
    "\n",
    "\n",
    "\n",
    "## Curse of Dimensionality\n",
    "### Task 1\n",
    "Let $\\mathbf{C}_d = \\{\\mathbf{x}\\in \\mathbb{R}^p\\mid\\|\\mathbf{x}\\|_\\infty\\leq\\frac{d}{2}\\}$ denote the $p$-dimensional hypercube of edge length $d$, centered at the orign.\n",
    "#### *Part A*\n",
    "Assume $\\mathbf{X}$ to be uniformly distributed in $\\mathbf{C}_1$. Determine $d$ in dependence of $p$ and $q\\in[0, 1]$, such that\n",
    "$$Pr(\\mathbf{X}\\in\\mathbf{C}_d)=q$$\n",
    "holds.\n",
    "\n",
    "\n",
    "$X$ is uniformly distributed on $\\mathcal{C}_1$, its probility density function is given by: $ f(x) =\\begin{cases}\n",
    "\\dfrac{1}{A^p(\\mathcal{C}_1)} & \\quad \\text{for } x\\in \\mathcal{C}_1 \\\\\n",
    "0 & \\quad \\text{otherwise} \\end{cases}$, where $A^p$ denotes the p-dimensional Lebesgue-measure.\n",
    "\n",
    "Hence: $A^p(\\mathcal{C}_1)=\\int\\limits_{-\\frac{1}{2}}^{\\frac{1}{2}}\\underbrace{\\dots}_{\\text{p times}}\\int\\limits_{-\\frac{1}{2}}^{\\frac{1}{2}}1dx_1\\dots dx_p= 1$  \n",
    "Therefore: $ f(x) =\\begin{cases}\n",
    "1 & \\quad \\text{for } x\\in \\mathcal{C}_1 \\\\\n",
    "0 & \\quad \\text{otherwise} \\end{cases}$\n",
    "\n",
    "Moreover: $Pr(X \\in \\mathcal{C}_d)=\\begin{cases} \\dfrac{A^p(\\mathcal{C}_d)}{A^p(\\mathcal{C}_1)}\\quad = \\quad A^p(\\mathcal{C}_d)\n",
    "& \\quad \\text{for } d <1 \\\\\n",
    "1 & \\quad \\text{for } d\\ge 1 \\end{cases}$ \n",
    "\n",
    "So: For $Pr(\\mathbf{X}\\in\\mathcal{C}_d) = q$ follows for $q=1$ that $d\\ge 1$\n",
    "\n",
    "Assume: $q\\leq1$. Then we have $Pr(\\mathbf{X}\\in\\mathcal{C}_d)=A^p(\\mathcal{C}_d)=\\int\\limits_{-\\frac{d}{2}}^{\\frac{d}{2}}\\underbrace{\\dots}_{\\text{p times}}\\int\\limits_{-\\frac{d}{2}}^{\\frac{d}{2}}1dx_1\\dots dx_p= d^p$\n",
    "\n",
    "Finally: it follows for $q\\leq1$ that $Pr(\\mathbf{X}\\in\\mathcal{C}_d) = q \\quad \\Leftrightarrow \\quad d=\\sqrt[p]{q}$\n",
    "\n",
    "\n",
    "\n",
    "\n",
    "#### *Part B*\n",
    "Let the components of the $p$-dimensional random variable $\\mathbf{X}^p$ be independent and have the standard normal distribution. It is known that $Pr(|\\mathbf{X}^1|\\leq2.576)=0.99$. For an arbitrary $p$, determine the probability $Pr(\\|\\mathbf{X}^p\\|_\\infty\\gt2.576)$ for any of the components of $\\mathbf{X}^p$ to lie outside of the interval $[-2.576, 2.576]$. Evaluate the value for $p = 2$, $p = 3$ and $p = 500$.\n",
    "\n",
    "\n",
    "$$\n",
    "\\begin{align*}\n",
    "& Pr(\\Vert X^p\\Vert_{\\infty} > 2,576) \\\\\n",
    "& = 1 - Pr(\\vert X^1\\vert \\le 2,576 \\ \\cap \\ \\vert X^2\\vert \\le 2,576 \\ \\cap \\ ... \\ \\cap \\ \\vert X^p\\vert \\le 2,576) \\\\\n",
    "& = 1 - \\prod_{i = 1}^{p} Pr(\\vert X^i\\vert \\le 2,576) \\\\\n",
    "& = 1 - 0.99^p  \\\\\n",
    "\\end{align*}\n",
    "$$\n",
    "\n",
    "\n",
    "For $p = 2$, $p = 3$ and $p = 500$ :\n",
    "\n",
    "$$\n",
    "\\begin{align*}\n",
    "& Pr(\\|\\mathbf{X}^2\\|_\\infty\\gt2.576) = 1 - (0.99)^2 = 0.0199 \\\\\n",
    "& Pr(\\|\\mathbf{X}^3\\|_\\infty\\gt2.576) = 1 - (0.99)^3 \\approx 0.0297 \\\\\n",
    "& Pr(\\|\\mathbf{X}^{500}\\|_\\infty\\gt2.576) = 1 - (0.99)^{500} \\approx 0.9934 \\\\\n",
    "\\end{align*}\n",
    "$$\n",
    "\n"
   ]
  },
  {
   "cell_type": "markdown",
   "metadata": {},
   "source": [
    "### Task 2\n",
    "Provide the PYTHON code to the following tasks (the code needs to be commented properly):\n",
    "#### *Part A*\n",
    "Sample $100$ uniformly distributed random vectors from the box $[-1, 1]^{d}$ for $d = 2$."
   ]
  },
  {
   "cell_type": "code",
   "execution_count": 5,
   "metadata": {},
   "outputs": [
    {
     "data": {
      "text/plain": [
       "Text(0.5, 1.0, 'Uniformly random vectors in $[-1, 1]^2$')"
      ]
     },
     "execution_count": 5,
     "metadata": {},
     "output_type": "execute_result"
    },
    {
     "data": {
      "image/png": "[encoded data removed]",
      "text/plain": [
       "<Figure size 432x288 with 1 Axes>"
      ]
     },
     "metadata": {
      "needs_background": "light"
     },
     "output_type": "display_data"
    }
   ],
   "source": [
    "import math\n",
    "import numpy as np\n",
    "import matplotlib.pyplot as plt\n",
    "\n",
    "\n",
    "def uniformly_distributed_data_gen(n, d):\n",
    "    \"\"\"\n",
    "    Generate a uniform distribution such that all data points are belongs to [-1, 1]^d\n",
    "    \n",
    "    :param n: number of data points\n",
    "    :param d: dimension of each data point\n",
    "\n",
    "    :return: the generated uniform distribution\n",
    "    \"\"\"\n",
    "    \n",
    "    return np.random.uniform(low=-1,high=1,size=(n, d))\n",
    "\n",
    "random_vectors = uniformly_distributed_data_gen(100, 2)\n",
    "plt.scatter(random_vectors[:, 0], random_vectors[:, 1])\n",
    "plt.xlabel('x-axis')\n",
    "plt.ylabel('y-asis')\n",
    "plt.title('Uniformly random vectors in $[-1, 1]^2$')"
   ]
  },
  {
   "cell_type": "markdown",
   "metadata": {},
   "source": [
    "#### *Part B*\n",
    "For each of the $100$ vectors determine the minimum angle to all other vectors. Then compute the average of these minimum angles. Note that for two vectors $\\mathbf{x}$, $\\mathbf{y}$ the cosine of the angle between the two vectors is defined as\n",
    "\n",
    "$$\\cos{((\\mathbf{x}, \\mathbf{y}))} = \\frac{\\langle \\mathbf{x}, \\mathbf{y} \\rangle}{\\|\\mathbf{x}\\|\\|\\mathbf{y}\\|}.$$\n"
   ]
  },
  {
   "cell_type": "code",
   "execution_count": 6,
   "metadata": {},
   "outputs": [],
   "source": [
    "def avg_min_angles(m):\n",
    "    \"\"\"\n",
    "    calculate average minimum angles for the given distribution\n",
    "    \n",
    "    :param m: distribution with size [n, d], where n denotes the number of data points and d denotes\n",
    "              dimension of each data point\n",
    "\n",
    "    :return: the average minimum angles\n",
    "    \"\"\"\n",
    "    m_support = m / np.linalg.norm(m, axis=1, keepdims=True)  # normalize the matrix m\n",
    "    np.nan_to_num(m_support)  # fill 0 to replace NaN value in the normalized matrix m_support\n",
    "    \n",
    "    # calculate a cosine similarity matrix that contains n * n elements. \n",
    "    # the element Ei,j means the cos similarity between ith and jth data point from the distribution.\n",
    "    cos_sim_mat = np.matmul(m_support, m_support.T)  \n",
    "    \n",
    "    # remove diagonal elements because the diagonal elements are the cos sim between data points themselves\n",
    "    # reshape it to size = (m.shape(0), m.shape(0) - 1)\n",
    "    cos_sim_mat = cos_sim_mat[~np.eye(cos_sim_mat.shape[0], dtype=bool)].reshape(cos_sim_mat.shape[0], -1)  \n",
    "    \n",
    "    angle_matrix = np.arccos(cos_sim_mat)\n",
    "    \n",
    "    return np.mean(np.min(angle_matrix, axis=1))  # get min along rows are then compute the mean value"
   ]
  },
  {
   "cell_type": "code",
   "execution_count": 7,
   "metadata": {},
   "outputs": [
    {
     "name": "stdout",
     "output_type": "stream",
     "text": [
      "Average Minimum Angels of the 100 vectors of dimension 2: 0.03217849146536236, \n",
      "Corresponding Degree: 1.8436917520630032°\n"
     ]
    }
   ],
   "source": [
    "average_minimum_angles = avg_min_angles(uniformly_distributed_data_gen(100, 2))\n",
    "print(\"Average Minimum Angels of the 100 vectors of dimension 2: {}, \\nCorresponding Degree: {}°\".format(average_minimum_angles, math.degrees(average_minimum_angles)))"
   ]
  },
  {
   "cell_type": "markdown",
   "metadata": {},
   "source": [
    "#### *Part C*\n",
    "Repeat the above for dimensions $d = 1, ..., 1000$ and use the results to plot the average minimum angle against the dimension."
   ]
  },
  {
   "cell_type": "code",
   "execution_count": 8,
   "metadata": {},
   "outputs": [
    {
     "data": {
      "image/png": "[encoded data removed]",
      "text/plain": [
       "<Figure size 432x288 with 1 Axes>"
      ]
     },
     "metadata": {
      "needs_background": "light"
     },
     "output_type": "display_data"
    }
   ],
   "source": [
    "def list_ave_min_angle(n, dim):\n",
    "    \"\"\"\n",
    "    calculate a list of average minimum angles for distributions generated by a given range of dimension\n",
    "    and number of data points \n",
    "    \n",
    "    :param n: number of data points\n",
    "    :param d: dimension of each data point\n",
    "    \n",
    "    :return: the average minimum angles\n",
    "    \"\"\"\n",
    "    assert isinstance(dim, np.ndarray) or isinstance(dim, list), \"Param dim should be array or list.\"\n",
    "    return list(map(lambda d: avg_min_angles(uniformly_distributed_data_gen(n, d)), dim))\n",
    "    \n",
    "dim = np.arange(0, 1000) + 1\n",
    "\n",
    "avg_min_all = list_ave_min_angle(100, dim)\n",
    "plt.plot(dim, avg_min_all)\n",
    "plt.xlabel('Dimension ( $d$ )')\n",
    "plt.ylabel('Average Min angle')\n",
    "plt.title('Figure 1: Nearest Neighbor Angular Distance with 100 samples')\n",
    "\n",
    "plt.grid()\n"
   ]
  },
  {
   "cell_type": "markdown",
   "metadata": {},
   "source": [
    "#### *Part D*\n",
    "Give an interpretation of the result. What conclusion can you draw for $2$ randomly sampled vectors in a $d$-dimensional space?"
   ]
  },
  {
   "cell_type": "code",
   "execution_count": 9,
   "metadata": {},
   "outputs": [
    {
     "data": {
      "image/png": "[encoded data removed]",
      "text/plain": [
       "<Figure size 432x288 with 1 Axes>"
      ]
     },
     "metadata": {
      "needs_background": "light"
     },
     "output_type": "display_data"
    }
   ],
   "source": [
    "avg_min_all = list_ave_min_angle(2, dim)\n",
    "plt.plot(dim, avg_min_all)\n",
    "plt.xlabel('Dimension ( $d$ )')\n",
    "plt.ylabel('Average Min angle')\n",
    "plt.title('Figure 2:Nearest Neighbor Angular Distance with 2 samples')\n",
    "\n",
    "plt.grid()"
   ]
  },
  {
   "cell_type": "markdown",
   "metadata": {},
   "source": [
    "- From figure 1 and figure 2, we can observe that the mean minimum angle distance of data points converges to around $90$ grad with increasing dimensions of data. This means, $2$ randomly sampled high dimensional datapoints are likely to be perpendicular to each other. So, the $2$ data points are increasingly equidistant in termas of angular distance from their nearest neighbor in high dimensional space. Thus, distance-based models such as kNN won't work for high dimensional data."
   ]
  },
  {
   "cell_type": "markdown",
   "metadata": {},
   "source": [
    "#### *Part E*\n",
    "Does the result change if the sample size increases?"
   ]
  },
  {
   "cell_type": "code",
   "execution_count": 10,
   "metadata": {
    "scrolled": true
   },
   "outputs": [],
   "source": [
    "def n_list_ave_min_angle(n, dim):\n",
    "    \"\"\"\n",
    "    Return a list of average angles between n nearest neighbouring vectors sampled from [-1, 1]^d.\n",
    "    \n",
    "    :param n: number of data points\n",
    "    :param d: dimension of each data point\n",
    "    \n",
    "    :returns: a len(n)*len(dim) array with average nearest neighbor angular distances\n",
    "    \"\"\"\n",
    "    return list(map(lambda num: np.asarray(list_ave_min_angle(num, dim)), n))\n",
    "    \n",
    "n = np.arange(20, 501, 50)\n",
    "n_avg_min_angles = n_list_ave_min_angle(n, dim)"
   ]
  },
  {
   "cell_type": "code",
   "execution_count": 11,
   "metadata": {
    "scrolled": true
   },
   "outputs": [
    {
     "data": {
      "text/plain": [
       "<matplotlib.colorbar.Colorbar at 0x196926dab70>"
      ]
     },
     "execution_count": 11,
     "metadata": {},
     "output_type": "execute_result"
    },
    {
     "data": {
      "image/png": "[encoded data removed]",
      "text/plain": [
       "<Figure size 432x288 with 2 Axes>"
      ]
     },
     "metadata": {
      "needs_background": "light"
     },
     "output_type": "display_data"
    }
   ],
   "source": [
    "# contour-plot avg of nearest neighbor angular distances\n",
    "cmap = plt.cm.get_cmap(\"gray\")\n",
    "\n",
    "plt.contourf(dim, n, n_avg_min_angles, 40, cmap=cmap)\n",
    "plt.xlabel('Dimensions ( $d$ )')\n",
    "plt.ylabel('Sample Size ( $n$ )')\n",
    "plt.title('Figure 2: Nearest Neighbor Angular Distance')\n",
    "plt.colorbar()"
   ]
  },
  {
   "cell_type": "code",
   "execution_count": 13,
   "metadata": {},
   "outputs": [
    {
     "data": {
      "text/plain": [
       "Text(0.5, 1.0, 'NN Angular distance, $d$=2')"
      ]
     },
     "execution_count": 13,
     "metadata": {},
     "output_type": "execute_result"
    },
    {
     "data": {
      "image/png": "[encoded data removed]",
      "text/plain": [
       "<Figure size 432x288 with 2 Axes>"
      ]
     },
     "metadata": {
      "needs_background": "light"
     },
     "output_type": "display_data"
    }
   ],
   "source": [
    "def n_number(num, d=1000):\n",
    "    \"\"\"\n",
    "    calculate a list of average minimum angles for distributions generated by a given range of num of\n",
    "    data points and dimension of the data.\n",
    "    \n",
    "    :param n: number of data points\n",
    "    :param d: dimension of each data point\n",
    "    \n",
    "    :return: the average minimum angles\n",
    "    \"\"\"\n",
    "\n",
    "    return list(map(lambda n: avg_min_angles(uniformly_distributed_data_gen(n, d)), num))\n",
    "    \n",
    "num = np.arange(2,101)\n",
    "avg_min_all_1 = n_number(num)\n",
    "\n",
    "plt.subplot(1, 2, 1)\n",
    "plt.plot(num, avg_min_all_1)\n",
    "plt.xlabel('Number of Samples( $n$ )')\n",
    "plt.ylabel('Average Min angle')\n",
    "plt.title('NN Angular distance, $d$=1000')\n",
    "\n",
    "\n",
    "avg_min_all_2 = n_number(num, 2)\n",
    "plt.subplot(1, 2, 2)\n",
    "plt.plot(num, avg_min_all_2)\n",
    "plt.xlabel('Number of Samples( $n$ )')\n",
    "plt.title('NN Angular distance, $d$=2')"
   ]
  },
  {
   "cell_type": "markdown",
   "metadata": {},
   "source": [
    "From the contour plot and 2 examples plot of $d$ = $1000$, $d$=$2$, we can observe that in high dimensions, the change of the average angle is marginal, so the samples size has very litte impact on the average angle. In low dimensions in contrast, the samples size has a big impact on the average angle."
   ]
  },
  {
   "cell_type": "markdown",
   "metadata": {},
   "source": [
    "## Statistical Decision Making\n",
    "### Task 3\n",
    "\n",
    "Answer the following questions. All answers must be justified.\n",
    "\n",
    "#### *Part A*\n",
    "The numbers in Figure 1 show the probability of the respective event to happen (e.g. the probability for the event $X=1$ and $Y=1$ is $0.02$). Is this table a probability table? If so, why?"
   ]
  },
  {
   "cell_type": "markdown",
   "metadata": {},
   "source": [
    "#### *Answer*: <br>\n",
    "Yes，it is a probability table.  \n",
    "$$\\because \\sum^{}_{X} \\sum^{}_{Y} p(x,y)=0.4+0.14+0.05+0.02+0.26+0.13=1$$  \n",
    "and  $$p(x,y)\\geqslant 0,\\forall (x,y)\\in \\left\\{ X,Y\\right\\}$$  \n"
   ]
  },
  {
   "cell_type": "markdown",
   "metadata": {},
   "source": [
    "#### *Part B*\n",
    "Based on Figure 1 give the conditional expectation $\\mathbb{E}_{Y \\mid X=2}[Y]$ and the probability of the event $X=1$ under the condition that $Y=3$."
   ]
  },
  {
   "cell_type": "markdown",
   "metadata": {},
   "source": [
    "#### *Answer*: <br>\n",
    "conditional expectation:\n",
    "\n",
    "$$\\mathbb{E}_{Y | X=2}[Y] = \\sum_{Y} Y \\operatorname{Pr}(Y | X=2)\\\\   \n",
    "= \\sum_{Y} Y \\frac{\\operatorname{Pr}(Y \\cap X=2)}{\\operatorname{Pr}(X=2)}\\\\   \n",
    "=\\frac{1}{0.4+0.14+0.05}(1 \\times 0.4+2 \\times 0.14+3 \\times 0.05)\\\\  \n",
    "=\\frac{83}{59}   \\approx 1.4068$$\n",
    "conditional probability:\n",
    "$$\\operatorname{Pr}(X=1 | Y=3)=\\frac{\\operatorname{Pr}(X=1 \\cap Y=3)}{\\operatorname{Pr}(Y=3)}\\\\\n",
    "=\\frac{0.13}{0.13+0.05}\\\\\n",
    "=\\frac{13}{18}\\approx 0.722$$"
   ]
  },
  {
   "cell_type": "markdown",
   "metadata": {},
   "source": [
    "#### *Part C*\n",
    "Is the function $p(x, y)$ given by\n",
    "$$\n",
    "p(x, y) = \\begin{cases}\n",
    "1 & \\quad \\text{for } 0\\leq x\\leq 1\\text{, } 0\\leq y\\leq \\frac{1}{2} \\\\\n",
    "0 & \\quad \\text{otherwise} \\end{cases}\n",
    "$$\n",
    "a joint density function for two random variables?"
   ]
  },
  {
   "cell_type": "markdown",
   "metadata": {},
   "source": [
    "#### *Answer:* <br>\n",
    "If the function $p(x,y)$ is a joint density function for two random variables, then $\\int^{}_{y} \\int^{}_{x} p(x,y)dxdy$ should be 1\n",
    "\n",
    "$$\\int_{y} \\int_{x} p(x, y) \\mathrm{d} x \\mathrm{d} y=\\int_{0}^{\\frac{1}{2} } \\int_{0}^{1} 1 \\mathrm{d} x \\mathrm{d} y\\\\\n",
    "=\\int_{0}^{\\frac{1}{2} } \\left.x\\right|_{0} ^{1} \\mathrm{d} y\\\\\n",
    "=\\int_{0}^{\\frac{1}{2} } 1 \\mathrm{d} y\\\\\n",
    "=\\left.y\\right|_{0} ^{\\frac{1}{2} }\\\\\n",
    "=\\frac{1}{2} \\neq 1$$\n",
    "\n",
    "$\\therefore $ it is not a joint density function  "
   ]
  },
  {
   "cell_type": "markdown",
   "metadata": {},
   "source": [
    "#### *Part D*\n",
    "For two random variables $X$ and $Y$ the joint density function is given by\n",
    "$$\n",
    "p(x, y) = \\begin{cases}\n",
    "2\\mathit{e}^{-(x+y)} & \\quad \\text{for } 0\\leq x\\leq y\\text{, } 0\\leq y \\\\\n",
    "0 & \\quad \\text{otherwise.} \\end{cases}\n",
    "$$\n",
    "What are the marginal density functions for $X$ and $Y$ respectively?"
   ]
  },
  {
   "cell_type": "markdown",
   "metadata": {},
   "source": [
    "#### *Answer:* <br>\n",
    "marginal density function for X:  \n",
    "\n",
    " \n",
    "$$p(x)=\\int_{x}^{\\infty} p(x, y) \\mathrm{d} y\\\\\n",
    "=\\int_{x}^{\\infty} 2 e^{-(x+y)}d y \\\\\n",
    "= -2 e^{-(x+y)}\\left.\\right|_{x} ^{\\infty} \\\\\n",
    "= 2 e^{-2x}$$\n",
    "\n",
    "\n",
    "marginal density function for Y:\n",
    "\n",
    "$$p(y)=\\int_{0}^{y} p(x, y) \\mathrm{d} x\\\\\n",
    "=\\int_{0}^{y} 2 e^{-(x+y)}d x\\\\\n",
    "= -2 e^{-(x+y)}\\left.\\right|_{0} ^{y}\\\\\n",
    "= -2 e^{-2y}+2 e^{-y}$$\n"
   ]
  },
  {
   "cell_type": "markdown",
   "metadata": {},
   "source": [
    "#### *Part E*\n",
    "Let the joint density function of two random variables $X$ and $Y$ be given by\n",
    "$$\n",
    "p(x, y) = \\begin{cases}\n",
    "\\frac{1}{15}(2x+4y) & \\quad \\text{for } 0\\leq x\\leq 3\\text{, } 0\\leq y\\leq 1 \\\\\n",
    "0 & \\quad \\text{otherwise.} \\end{cases}\n",
    "$$\n",
    "Determine the probability for $X\\leq 2$ under the condition that $Y = \\frac{1}{2}$."
   ]
  },
  {
   "cell_type": "markdown",
   "metadata": {},
   "source": [
    "#### *Answer*: <br>\n",
    "$\\because p(x,y)=p(x|y)p(y)$  \n",
    "$\\therefore$ To calculate $p(x≤2|y=\\frac{1}{2})$, we should know $p(x\\leq 2\\bigcap y=\\frac{1}{2} )$ and $p(y)$  \n",
    "marginal density function for Y:  \n",
    "$$p(y)=\\int_x p(x,y)dx\\\\\n",
    "= \\int^3 _0 p(x,y)dx\\\\\n",
    "= \\int^3 _0 \\frac{1}{15}(2x+4y)dx\\\\\n",
    "= \\frac{1}{15} (x^2+4xy)|^3 _0\\\\\n",
    "= \\frac{1}{5} (4y+3)$$  \\\\\n",
    "$$\\therefore p(x≤2|y=\\frac{1}{2})\n",
    "=\\int\\frac{p(x≤2,y=\\frac{1}{2})}{p(y)}dx\\\\\n",
    "=\\int^2 _0\\frac{\\frac{1}{15}(2x+4y)}{\\frac{1}{5} (4y+3)}|_{y=\\frac{1}{2}}dx\\\\\n",
    "=\\int^2 _0\\frac{2x+4y}{12y+9}|_{y=\\frac{1}{2}}dx\\\\\n",
    "=\\int^2_0\\frac{2x+2}{15}dx\\\\\n",
    "=\\frac{1}{15}(x^2+2x)|^2 _0\\\\\n",
    "=\\frac{8}{15}$$"
   ]
  },
  {
   "cell_type": "markdown",
   "metadata": {},
   "source": [
    "### Task 4\n",
    "Show that the covariance matrix $\\mathbf{C}$ of any random variable $\\mathbf{X}\\in\\mathbb{R}^p$ is symmetric positive semidefinite, i.e. $\\mathbf{C}=\\mathbf{C}^T$ and $\\mathbf{x}^T\\mathbf{Cx}\\geq 0$ for any covariance matrix $\\mathbf{C}\\in\\mathbb{R}^{p\\times p}$ and any $\\mathbf{x}\\in\\mathbb{R}^p$."
   ]
  },
  {
   "cell_type": "markdown",
   "metadata": {},
   "source": [
    "#### *Answer*: <br>\n",
    "Define:  \n",
    "$\\mathbf{C}$ : the covariance matrix of $\\mathbf{X}$, $\\mathbf{X}\\in \\mathbb{R}^{p}$  \n",
    "$\\mathbf{\\mu}$ : the mean of $\\mathbf{X}$ ( $\\mathbb{E}(\\mathbf{X})=\\mathbf{\\mu}$ )  \n",
    " \n",
    "\n",
    "$$C=E[(x-\\mu)(x-\\mu)^T]$$\n",
    "\n",
    "$$\n",
    "C^T=E[(x-\\mu)(x-\\mu)^T]^T\\\\ \n",
    "=E[(x-\\mu)^{TT}(x-\\mu)^T]\\\\\n",
    "=E[(x-\\mu)(x-\\mu)^T]\\\\\n",
    "=C\\\\\n",
    "$$\n",
    "The covariance matrix is symmtric($C=C^T$)\n",
    "\n",
    "\n",
    "\\\n",
    "To prove $\\mathbf{x^TCx}\\geq0$:  \n",
    "\\begin{equation}\n",
    "    \\begin{split}\n",
    "    \\mathbf{C} &= \\mathbb{E}[(\\mathbf{X}-\\mathbf{\\mu})(\\mathbf{X}-\\mathbf{\\mu})^T]\\\\\\\\\n",
    "    \\mathbf{x}^T\\mathbf{Cx} &= \\mathbf{x}^T\\mathbb{E}[(\\mathbf{X}-\\mathbf{\\mu})(\\mathbf{X}-\\mathbf{\\mu})^T]\\mathbf{x}\\\\\\\\\n",
    "    & = \\mathbb{E}[\\mathbf{x}^T(\\mathbf{X}-\\mathbf{\\mu})(\\mathbf{X}-\\mathbf{\\mu})^T\\mathbf{x}]\\\\\\\\\\\n",
    "    & = \\mathbb{E}[(\\mathbf{x}^T(\\mathbf{X}-\\mathbf{\\mu}))(\\mathbf{x}^T(\\mathbf{X}-\\mathbf{\\mu}))^T]\\\\\\\\\\\n",
    "    & = \\mathbb{E}[\\left| \\left| x^{T}(X-\\mu )\\right|  \\right|^{2}]\\geqslant 0\n",
    "    \\end{split}\n",
    "\\end{equation}  \n",
    "   $\\text{$\\mathbf{x}^T\\mathbf{Cx} \\geq 0$ is proved.}$"
   ]
  }
 ],
 "metadata": {
  "kernelspec": {
   "display_name": "PATH",
   "language": "python",
   "name": "path"
  },
  "language_info": {
   "codemirror_mode": {
    "name": "ipython",
    "version": 3
   },
   "file_extension": ".py",
   "mimetype": "text/x-python",
   "name": "python",
   "nbconvert_exporter": "python",
   "pygments_lexer": "ipython3",
   "version": "3.7.1"
  }
 },
 "nbformat": 4,
 "nbformat_minor": 4
}
