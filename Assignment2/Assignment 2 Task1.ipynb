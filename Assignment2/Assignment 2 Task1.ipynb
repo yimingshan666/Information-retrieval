{
 "cells": [
  {
   "cell_type": "markdown",
   "id": "7d0adac7",
   "metadata": {},
   "source": [
    "Task 1:\n",
    "（1）\n",
    "$\\begin{equation}\n",
    "    \\begin{split}\n",
    "    \\mathbf{s}^{T} \\Sigma \\mathbf{\\Sigma}^{T}\\mathbf{s} &=\\left[ s_{1}\\  s_{2}\\  \\cdots \\  s_{p}\\right]  \\begin{bmatrix}\\sigma_{1} &0&\\cdots &0&0&\\cdots &0\\\\ 0&\\sigma_{2} &&0&0&\\cdots &0\\\\ \\vdots &&\\ddots &\\vdots &0&\\cdots &0\\\\ 0&0&\\cdots &\\sigma_{p} &0&\\cdots &0\\end{bmatrix} \\begin{bmatrix}\\sigma_{1} &0&\\cdots &0\\\\ 0&\\sigma_{2} &&0\\\\ \\vdots &&\\ddots &\\vdots \\\\ 0&0&\\cdots &\\sigma_{p} \\\\ 0&0&0&0\\\\ \\vdots &\\vdots &\\vdots &\\vdots \\\\ 0&0&0&0\\end{bmatrix} \\begin{bmatrix}s_{1}\\\\ s_{2}\\\\ \\vdots \\\\ s_{p}\\end{bmatrix}\\\\\\\\  \n",
    "&=\\left[ s_{1}\\  s_{2}\\  \\cdots \\  s_{p}\\right]  \\begin{bmatrix}\\sigma^{2}_{1} &0&\\cdots &0\\\\ 0&\\sigma^{2}_{2} &&0\\\\ \\vdots &&\\ddots &\\vdots \\\\ 0&0&\\cdots &\\sigma^{2}_{p} \\end{bmatrix} \\begin{bmatrix}s_{1}\\\\ s_{2}\\\\ \\vdots \\\\ s_{p}\\end{bmatrix}\\\\\\\\\n",
    "&=s^{2}_{1}\\sigma^{2}_{1} +s^{2}_{2}\\sigma^{2}_{2} +\\cdots +s^{2}_{p}\\sigma^{2}_{p} \\\\\\\\\n",
    "&=\\sum^{p}_{i=1} \\sigma^{2}_{i} s^{2}_{i}\n",
    "    \\end{split}\n",
    "\\end{equation}$\n",
    "$The\\  aim\\  is\\  to\\  provide\\  a\\  normalized\\  vector\\  \\hat{s} \\in \\mathbb{R}^p,s.t\\  \\hat{s} =arg\\max_{s\\  s.t.\\  \\left| \\left| s\\right|  \\right|  =1} \\  \\mathbf{s}^{T} \\Sigma \\mathbf{\\Sigma}^{T}\\mathbf{s} \\  $  \n",
    "$ \\because \\sigma_{1} \\geq \\cdots \\geq \\sigma_{p} $  \n",
    "$ \\therefore  \\hat{s} =arg\\max_{s\\  s.t.\\  \\left| \\left| s\\right|  \\right|  =1} \\  \\mathbf{s}^{T} \\Sigma \\mathbf{\\Sigma}^{T}=arg\\max_{s\\  s.t.\\  \\left| \\left| s\\right|  \\right|  =1} \\sum^{p}_{i=1} \\sigma^{2}_{i} s^{2}_{i}=\\sigma^{2}_{1}  $  \n",
    "$\\because \\left| \\left| s\\right|  \\right|  =1\\  \\therefore \\  \\hat{s} \\  must\\  be\\  \\begin{bmatrix}\\pm 1&0\\  &\\cdots &0\\end{bmatrix}^{T}  $"
   ]
  },
  {
   "cell_type": "markdown",
   "id": "09bd35c2",
   "metadata": {},
   "source": [
    "Task 1:(2)  \n",
    "\n",
    "$ Write\\  a\\  as\\  a\\  linear\\  combination\\  of\\  the\\  columns\\  of\\  U$  \n",
    "$a=Ub$  \n",
    "$\\because \\left| \\left| a\\right|  \\right|  =1$  \n",
    "$\\therefore \\left| \\left| Ub\\right|  \\right|  =\\sqrt{(Ub)^{T}\\left( Ub\\right)  } =\\sqrt{b^{T}U^{T}Ub} =\\sqrt{b^{T}b} =\\left| \\left| b\\right|  \\right|=1  $\n",
    "$\\begin{equation}\n",
    "    \\begin{split}\n",
    "    \\frac{1}{N} a^{T}XX^{T}a&=\\frac{1}{N} \\left( Ub\\right)^{T}  XX^{T}\\left( Ub\\right)\\\\\\\\\n",
    "    &=\\frac{1}{N} b^{T}U^{T}XX^{T}Ub\\\\\\\\\n",
    "    &=\\frac{1}{N} b^{T}U^{T}\\left( U\\Sigma V^{T}\\right)  \\left( U\\Sigma V^{T}\\right)^{T}  Ub\\\\\\\\\n",
    "    &=\\frac{1}{N} b^{T}\\left( U^{T}U\\right)  \\Sigma \\left( V^{T}V\\right)  \\Sigma (U^{T}U)b\\\\\\\\\n",
    "    &=\\frac{1}{N} b^{T}\\Sigma \\Sigma b\\\\\\\\\n",
    "    &=\\frac{1}{N} \\sum^{N}_{i=1} \\sigma^{2}_{i} b^{2}_{i}\\\\\\\\\n",
    "       \\end{split}\n",
    "\\end{equation}$  \n",
    "$ \\because \\sigma_{1} \\geq \\cdots \\geq \\sigma_{p},\\left| \\left| b\\right|  \\right|  =1 $  \n",
    "$ \\therefore max\\frac{1}{N} a^{T}XX^{T}a=max\\frac{1}{N} \\sum^{N}_{i=1} \\sigma^{2}_{i} b^{2}_{i}=\\frac{1}{N} \\sigma^{2}_{1} $  \n",
    "$b\\  must\\  be\\  \\begin{bmatrix}\\pm 1&0&\\cdots &0\\end{bmatrix}^{T} $  \n",
    "$a=Ub=U\\begin{bmatrix}\\pm 1&0&\\cdots &0\\end{bmatrix}^{T} =\\pm u_{1}$  \n",
    "$ so\\  a\\  must\\  be\\  the\\  first\\  column\\  of\\  U$"
   ]
  }
 ],
 "metadata": {
  "kernelspec": {
   "display_name": "Python 3 (ipykernel)",
   "language": "python",
   "name": "python3"
  },
  "language_info": {
   "codemirror_mode": {
    "name": "ipython",
    "version": 3
   },
   "file_extension": ".py",
   "mimetype": "text/x-python",
   "name": "python",
   "nbconvert_exporter": "python",
   "pygments_lexer": "ipython3",
   "version": "3.9.6"
  }
 },
 "nbformat": 4,
 "nbformat_minor": 5
}
