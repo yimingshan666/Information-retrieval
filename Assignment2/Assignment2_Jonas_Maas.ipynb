{
 "cells": [
  {
   "cell_type": "markdown",
   "metadata": {},
   "source": [
    "### Task1\n",
    "#### a) \n",
    "$\n",
    "\\hat{s} = \\underset{\\bf{s} \\ s.t. \\Vert \\bf{s} \\Vert = 1} {\\operatorname{arg max}} s^T \\Sigma \\Sigma^T s \\newline\n",
    "= \\underset{\\bf{s} \\ s.t. \\Vert \\bf{s} \\Vert = 1} {\\operatorname{arg max}} s^T \\sum_{i = 1}^{p} e_i \\sigma_i \\tilde{e_i}^T (\\sum_{j = 1}^{p} e_j \\sigma_j \\tilde{e_j}^T)^T  s \\newline\n",
    "= \\underset{\\bf{s} \\ s.t. \\Vert \\bf{s} \\Vert = 1} {\\operatorname{arg max}} s^T \\sum_{i = 1}^{p} e_i \\sigma_i \\tilde{e_i}^T \\sum_{j = 1}^{p} \\tilde{e_j}^T \\sigma_j e_j^T  s \\newline\n",
    "= \\underset{\\bf{s} \\ s.t. \\Vert \\bf{s} \\Vert = 1} {\\operatorname{arg max}} s^T \\sum_{i = 1}^{p} \\sum_{j = 1}^{p} e_i \\sigma_i \\tilde{e_i}^T \\tilde{e_j}^T \\sigma_j  e_j^T s \\newline\n",
    "= \\underset{\\bf{s} \\ s.t. \\Vert \\bf{s} \\Vert = 1} {\\operatorname{arg max}} s^T \\sum_{i = 1}^{p} e_i \\sigma_i^2  e_i^T s \\newline\n",
    "= \\underset{\\bf{s} \\ s.t. \\Vert \\bf{s} \\Vert = 1} {\\operatorname{arg max}} \\sum_{i = 1}^{p} s^T e_i \\sigma_i^2  e_i^T s \\newline\n",
    "\\text{sum gets largest for s beeing parallel to the direction with the largest singular value} \\newline \n",
    "\\Rightarrow \\hat{s} = e_1\n",
    "$ \n",
    "#### b) \n",
    "$\n",
    "\\frac{1}{N} \\sum_{i = 1}^{N} (a^T x_i)^2 = \\frac{1}{N} a^T X X^T a \\newline\n",
    "= \\frac{1}{N} \\sum_{i = 1}^{p}a_i u_i^T X X^T \\sum_{j = 1}^{p}a_j u_j \\qquad \\text{with} \\qquad \\sum_{j = 1}^{p}a_j = 1 \\newline\n",
    "= \\frac{1}{N} \\sum_{i = 1}^{p}a_i (U * e_i)^T X X^T \\sum_{j = 1}^{p}a_j (U * e_j) \\newline\n",
    "= \\frac{1}{N} \\sum_{i = 1}^{p}a_i e_i^T U^T U \\Sigma V^T V \\Sigma^T U^T U \\sum_{j = 1}^{p}a_j e_j \\newline\n",
    "= \\frac{1}{N} \\sum_{i = 1}^{p}a_i e_i^T \\Sigma \\Sigma^T \\sum_{j = 1}^{p}a_j e_j \\newline\n",
    "= \\frac{1}{N} \\sum_{i = 1}^{p} \\sum_{j = 1}^{p} a_i a_j e_i^T \\Sigma \\Sigma^T  e_j \\newline\n",
    "\\text{There are only nonzero values on the diagonal, so j has to be equal to i to get a nonzero solution } \\newline \n",
    "= \\frac{1}{N} \\sum_{i = 1}^{p} a_i^2 e_i^T \\Sigma \\Sigma^T  e_i \\newline\n",
    "\\text{This equation is maximized by selecting the largest singular value, that means }a_1 = 1\\text{ and }a_i = 0\\text{ for i ≠ 1} \\newline \n",
    "\\text{Selecting }a_1 = 1 \\text{ and }a_i = 0\\text{ for i ≠ 1 means selecting the first column from the U matrix which means } a = u_1 \\newline \n",
    "$"
   ]
  }
 ],
 "metadata": {
  "kernelspec": {
   "display_name": "Python 3",
   "language": "python",
   "name": "python3"
  },
  "language_info": {
   "codemirror_mode": {
    "name": "ipython",
    "version": 3
   },
   "file_extension": ".py",
   "mimetype": "text/x-python",
   "name": "python",
   "nbconvert_exporter": "python",
   "pygments_lexer": "ipython3",
   "version": "3.7.10"
  }
 },
 "nbformat": 4,
 "nbformat_minor": 4
}
